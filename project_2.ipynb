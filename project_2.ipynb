{
 "cells": [
  {
   "cell_type": "markdown",
   "metadata": {},
   "source": [
    "# Project 2: New York Taxicab Data Analysis\n",
    "\n",
    "For this project, your job is to perform exploratory analysis of data collected from New York City taxicabs. Your objective is to understand tipping behavior. To do that, complete the following steps and answer the included questions.\n",
    "\n",
    "1. Calculate the average trip time and trip distance. -Wesley\n",
    "2. Calculate the average and the median tip amount, fare amount, surcharge, mta tax, toll amount, and total amount paid. -Wesley\n",
    "3. Is trip distance correlated with the total amount paid? Is it correlated with the tip amount? -Aaron\n",
    "4. Drivers can be disambiguated by hack license (hint: groupby). Which drivers earn the most in tips? (report the top 5 tip earners) Who earns the least? (bottom 5) -Aaron\n",
    "5. Do the drivers that earn the most in tips drive the furthest, or not? -Wesley\n",
    "6. The average speed for a given trip can be determined by taking the total trip distance and dividing it by the total time taken on the trip (CAUTION: make sure you use the right units - for miles per hour, seconds need to be converted to hours first). Calculate the average speed for each trip. -Aaron\n",
    "7. Does average speed correlate with the total amount paid? Does it correlate with the tip amount? - Wesley\n",
    "\n",
    "And finally, a bonus:\n",
    "\n",
    "8. Which drivers are the fastest, on average? Which drivers are the slowest, on average? Does it appear that faster drivers earn more in tips than slower drivers?\n",
    "\n",
    "For parts 1 and 2, provide supporting plots. Since this is continuous data, these should be either histograms, boxplots, or kde plots. For parts 3 and 7, provide supporting scatterplots. For part 4, you may optionally provide supporting barcharts.\n",
    "\n",
    "CAUTION: This data is messy (see my starter code below). Be on the lookout for missing and/or erroneous values. Remove or correct missing values as you see fit, but be sure to explain your reasoning.\n",
    "\n",
    "## Due Date and Submission Requirements:\n",
    "\n",
    "On this project you will work with a partner. Partners are listed below. You will only submit one project per team. As with the last project, do all your work in a Jupyter notebook. Include markdown cells with explanation of your analysis as you perform it. When you have completed your work, save as an HTML file (File > Download As > HTML), then submit the file via myCourses. This project is due **March 28, 2017, by 3:39PM**.\n",
    "\n",
    "## Partners\n",
    "\n",
    "1. Jacob Mechaber & Briana Garcia\n",
    "2. Evan O'Reilly & Evan Royer\n",
    "3. Aaron Broady & Wesley Couturier\n",
    "4. Patrick Donovan & Brent Groden\n",
    "5. Angus Jameson & Ryan Kiessling\n",
    "6. Danielle LeBoeuf & Stephen McCarter\n",
    "7. Andrew Meyer & Kelvin Nguyen\n",
    "8. Aurora VanDeWater, Craig Vigneault, & Robert Patenaude"
   ]
  },
  {
   "cell_type": "code",
   "execution_count": 1,
   "metadata": {
    "collapsed": true
   },
   "outputs": [],
   "source": [
    "'''\n",
    "Do not change anything in this cell\n",
    "'''\n",
    "\n",
    "import pandas as pd\n",
    "import numpy as np\n",
    "import matplotlib.pyplot as plt\n",
    "\n",
    "% matplotlib inline"
   ]
  },
  {
   "cell_type": "code",
   "execution_count": 2,
   "metadata": {
    "collapsed": false
   },
   "outputs": [],
   "source": [
    "'''\n",
    "Change to your paths\n",
    "'''\n",
    "\n",
    "trip = pd.read_csv('./trip_1_h_1e6.csv.gz')\n",
    "fare = pd.read_csv('./fare_1_h_1e6.csv.gz')"
   ]
  },
  {
   "cell_type": "markdown",
   "metadata": {},
   "source": [
    "# The two files have the same number of observations"
   ]
  },
  {
   "cell_type": "code",
   "execution_count": 3,
   "metadata": {
    "collapsed": false
   },
   "outputs": [
    {
     "name": "stdout",
     "output_type": "stream",
     "text": [
      "1000000\n"
     ]
    },
    {
     "data": {
      "text/plain": [
       "True"
      ]
     },
     "execution_count": 3,
     "metadata": {},
     "output_type": "execute_result"
    }
   ],
   "source": [
    "'''\n",
    "Do not change anything in this cell\n",
    "'''\n",
    "print(trip.shape[0])\n",
    "trip.shape[0] == fare.shape[0]"
   ]
  },
  {
   "cell_type": "code",
   "execution_count": 4,
   "metadata": {
    "collapsed": false
   },
   "outputs": [
    {
     "name": "stdout",
     "output_type": "stream",
     "text": [
      "Index(['medallion', 'hack_license', 'vendor_id', 'rate_code',\n",
      "       'store_and_fwd_flag', 'pickup_datetime', 'dropoff_datetime',\n",
      "       'passenger_count', 'trip_time_in_secs', 'trip_distance',\n",
      "       'pickup_longitude', 'pickup_latitude', 'dropoff_longitude',\n",
      "       'dropoff_latitude'],\n",
      "      dtype='object')\n",
      "Index(['medallion', ' hack_license', ' vendor_id', ' pickup_datetime',\n",
      "       ' payment_type', ' fare_amount', ' surcharge', ' mta_tax',\n",
      "       ' tip_amount', ' tolls_amount', ' total_amount'],\n",
      "      dtype='object')\n"
     ]
    }
   ],
   "source": [
    "'''\n",
    "Do not change anything in this cell\n",
    "'''\n",
    "print(trip.columns)\n",
    "print(fare.columns)"
   ]
  },
  {
   "cell_type": "markdown",
   "metadata": {},
   "source": [
    "## Beware data integrity issues\n",
    "\n",
    "Even the column names have issues. Note the whitespace in front of the column names in the 'fare' dataframe. Let's correct that."
   ]
  },
  {
   "cell_type": "code",
   "execution_count": 5,
   "metadata": {
    "collapsed": false
   },
   "outputs": [
    {
     "name": "stdout",
     "output_type": "stream",
     "text": [
      "These are the fare columns:\n",
      "Index(['medallion', 'hack_license', 'vendor_id', 'pickup_datetime',\n",
      "       'payment_type', 'fare_amount', 'surcharge', 'mta_tax', 'tip_amount',\n",
      "       'tolls_amount', 'total_amount'],\n",
      "      dtype='object')\n",
      "\n",
      "These are the Trip Columns\n",
      "Index(['medallion', 'hack_license', 'vendor_id', 'rate_code',\n",
      "       'store_and_fwd_flag', 'pickup_datetime', 'dropoff_datetime',\n",
      "       'passenger_count', 'trip_time_in_secs', 'trip_distance',\n",
      "       'pickup_longitude', 'pickup_latitude', 'dropoff_longitude',\n",
      "       'dropoff_latitude'],\n",
      "      dtype='object')\n"
     ]
    }
   ],
   "source": [
    "'''\n",
    "Do not change anything in this cell\n",
    "'''\n",
    "corrected_cols = pd.Series(fare.columns)  # can't change columns in place (not 'mutable')\n",
    "corrected_cols = corrected_cols.apply(lambda x: x.lstrip())  # lstrip removes whitespace on the left\n",
    "fare.columns = corrected_cols\n",
    "print(\"These are the fare columns:\")\n",
    "print(fare.columns)\n",
    "print()\n",
    "print(\"These are the Trip Columns\")\n",
    "print(trip.columns)"
   ]
  },
  {
   "cell_type": "markdown",
   "metadata": {},
   "source": [
    "## Several columns are duplicates\n",
    "\n",
    "The following columns are exactly the same in each file."
   ]
  },
  {
   "cell_type": "code",
   "execution_count": 6,
   "metadata": {
    "collapsed": false
   },
   "outputs": [
    {
     "name": "stdout",
     "output_type": "stream",
     "text": [
      "0\n",
      "0\n",
      "0\n",
      "0\n"
     ]
    }
   ],
   "source": [
    "'''\n",
    "Do not change anything in this cell\n",
    "'''\n",
    "print(sum(trip.medallion != fare.medallion))\n",
    "print(sum(trip.hack_license != fare.hack_license))\n",
    "print(sum(trip.vendor_id != fare.vendor_id))\n",
    "print(sum(trip.pickup_datetime != fare.pickup_datetime))"
   ]
  },
  {
   "cell_type": "markdown",
   "metadata": {},
   "source": [
    "## Good luck!"
   ]
  },
  {
   "cell_type": "markdown",
   "metadata": {},
   "source": [
    "# 1) Calculate the average trip time and trip distance"
   ]
  },
  {
   "cell_type": "code",
   "execution_count": 15,
   "metadata": {
    "collapsed": false,
    "scrolled": true
   },
   "outputs": [
    {
     "name": "stdout",
     "output_type": "stream",
     "text": [
      "The Average time in mintues is:\n",
      "11.0021936178\n",
      "\n",
      "The Average trip distance in miles is:\n",
      "2.49888695377\n"
     ]
    },
    {
     "data": {
      "image/png": "[encoded data removed]",
      "text/plain": [
       "<matplotlib.figure.Figure at 0x7f45a282e7f0>"
      ]
     },
     "metadata": {},
     "output_type": "display_data"
    }
   ],
   "source": [
    "# your code here\n",
    "temp = trip[((trip.trip_time_in_secs - trip.trip_time_in_secs.mean()).abs() / trip.trip_time_in_secs.std()) <= 3]\n",
    "temp = temp[temp.trip_time_in_secs > 0]\n",
    "print('The Average time in mintues is:')\n",
    "print(temp.trip_time_in_secs.mean() / 60)\n",
    "\n",
    "# The stuff Below is good!\n",
    "fig, ax = plt.subplots(1, 2, figsize=(12, 6))\n",
    "ax[0].hist(temp['trip_time_in_secs'], bins=100)\n",
    "ax[1].boxplot(trip['trip_time_in_secs'], showfliers=False)\n",
    "\n",
    "temp = trip[((trip.trip_distance - trip.trip_distance.mean()).abs() / trip.trip_distance.std()) <= 3]\n",
    "temp = temp[temp.trip_distance > 0]\n",
    "print()\n",
    "print(\"The Average trip distance in miles is:\")\n",
    "print(temp.trip_distance.mean())"
   ]
  },
  {
   "cell_type": "markdown",
   "metadata": {},
   "source": [
    "According to the information from the trip.csv:\n",
    " * The Average trip time is 11 Minutes\n",
    " * The Average distance is 2.50 Miles\n",
    " "
   ]
  },
  {
   "cell_type": "markdown",
   "metadata": {},
   "source": [
    "# 2) Calculate the average and the median tip amount, fare amount, surcharge, mta tax, toll amount, and total amount paid"
   ]
  },
  {
   "cell_type": "code",
   "execution_count": 24,
   "metadata": {
    "collapsed": false
   },
   "outputs": [
    {
     "data": {
      "text/html": [
       "<div>\n",
       "<table border=\"1\" class=\"dataframe\">\n",
       "  <thead>\n",
       "    <tr style=\"text-align: right;\">\n",
       "      <th></th>\n",
       "      <th>fare_amount</th>\n",
       "      <th>surcharge</th>\n",
       "      <th>tip_amount</th>\n",
       "      <th>total_amount</th>\n",
       "    </tr>\n",
       "  </thead>\n",
       "  <tbody>\n",
       "    <tr>\n",
       "      <th>count</th>\n",
       "      <td>1000000.000000</td>\n",
       "      <td>1000000.000000</td>\n",
       "      <td>1000000.000000</td>\n",
       "      <td>1000000.000000</td>\n",
       "    </tr>\n",
       "    <tr>\n",
       "      <th>mean</th>\n",
       "      <td>12.012599</td>\n",
       "      <td>0.323555</td>\n",
       "      <td>1.322969</td>\n",
       "      <td>14.396471</td>\n",
       "    </tr>\n",
       "    <tr>\n",
       "      <th>std</th>\n",
       "      <td>10.170447</td>\n",
       "      <td>0.373471</td>\n",
       "      <td>2.143718</td>\n",
       "      <td>12.121510</td>\n",
       "    </tr>\n",
       "    <tr>\n",
       "      <th>min</th>\n",
       "      <td>2.500000</td>\n",
       "      <td>0.000000</td>\n",
       "      <td>0.000000</td>\n",
       "      <td>2.500000</td>\n",
       "    </tr>\n",
       "    <tr>\n",
       "      <th>25%</th>\n",
       "      <td>6.500000</td>\n",
       "      <td>0.000000</td>\n",
       "      <td>0.000000</td>\n",
       "      <td>7.700000</td>\n",
       "    </tr>\n",
       "    <tr>\n",
       "      <th>50%</th>\n",
       "      <td>9.000000</td>\n",
       "      <td>0.000000</td>\n",
       "      <td>1.000000</td>\n",
       "      <td>10.700000</td>\n",
       "    </tr>\n",
       "    <tr>\n",
       "      <th>75%</th>\n",
       "      <td>13.500000</td>\n",
       "      <td>0.500000</td>\n",
       "      <td>2.000000</td>\n",
       "      <td>16.000000</td>\n",
       "    </tr>\n",
       "    <tr>\n",
       "      <th>max</th>\n",
       "      <td>460.000000</td>\n",
       "      <td>1.000000</td>\n",
       "      <td>177.000000</td>\n",
       "      <td>460.500000</td>\n",
       "    </tr>\n",
       "  </tbody>\n",
       "</table>\n",
       "</div>"
      ],
      "text/plain": [
       "          fare_amount       surcharge      tip_amount    total_amount\n",
       "count  1000000.000000  1000000.000000  1000000.000000  1000000.000000\n",
       "mean        12.012599        0.323555        1.322969       14.396471\n",
       "std         10.170447        0.373471        2.143718       12.121510\n",
       "min          2.500000        0.000000        0.000000        2.500000\n",
       "25%          6.500000        0.000000        0.000000        7.700000\n",
       "50%          9.000000        0.000000        1.000000       10.700000\n",
       "75%         13.500000        0.500000        2.000000       16.000000\n",
       "max        460.000000        1.000000      177.000000      460.500000"
      ]
     },
     "execution_count": 24,
     "metadata": {},
     "output_type": "execute_result"
    }
   ],
   "source": [
    "fare_df = pd.DataFrame(fare)\n",
    "fare[[' fare_amount', ' surcharge', ' tip_amount', ' total_amount']].describe()\n"
   ]
  },
  {
   "cell_type": "code",
   "execution_count": null,
   "metadata": {
    "collapsed": true
   },
   "outputs": [],
   "source": []
  }
 ],
 "metadata": {
  "kernelspec": {
   "display_name": "Python 3",
   "language": "python",
   "name": "python3"
  },
  "language_info": {
   "codemirror_mode": {
    "name": "ipython",
    "version": 3
   },
   "file_extension": ".py",
   "mimetype": "text/x-python",
   "name": "python",
   "nbconvert_exporter": "python",
   "pygments_lexer": "ipython3",
   "version": "3.5.2"
  }
 },
 "nbformat": 4,
 "nbformat_minor": 2
}
